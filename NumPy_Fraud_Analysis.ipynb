{
 "cells": [
  {
   "cell_type": "code",
   "execution_count": 1,
   "id": "8a180df1-3a6c-4dc0-a859-8e1b7d2f19a6",
   "metadata": {},
   "outputs": [],
   "source": [
    "import numpy as np"
   ]
  },
  {
   "cell_type": "code",
   "execution_count": 3,
   "id": "322bfdfb-ebe2-4995-93a0-5a2dce4cb12e",
   "metadata": {},
   "outputs": [],
   "source": [
    "import pandas as pd"
   ]
  },
  {
   "cell_type": "code",
   "execution_count": 9,
   "id": "f75ee2c1-7f06-4851-90c1-ec23fbb9055e",
   "metadata": {},
   "outputs": [
    {
     "name": "stdout",
     "output_type": "stream",
     "text": [
      "   Time        V1        V2        V3        V4        V5        V6        V7  \\\n",
      "0     0 -1.359807 -0.072781  2.536347  1.378155 -0.338321  0.462388  0.239599   \n",
      "1     0  1.191857  0.266151  0.166480  0.448154  0.060018 -0.082361 -0.078803   \n",
      "2     1 -1.358354 -1.340163  1.773209  0.379780 -0.503198  1.800499  0.791461   \n",
      "3     1 -0.966272 -0.185226  1.792993 -0.863291 -0.010309  1.247203  0.237609   \n",
      "4     2 -1.158233  0.877737  1.548718  0.403034 -0.407193  0.095921  0.592941   \n",
      "\n",
      "         V8        V9  ...       V21       V22       V23       V24       V25  \\\n",
      "0  0.098698  0.363787  ... -0.018307  0.277838 -0.110474  0.066928  0.128539   \n",
      "1  0.085102 -0.255425  ... -0.225775 -0.638672  0.101288 -0.339846  0.167170   \n",
      "2  0.247676 -1.514654  ...  0.247998  0.771679  0.909412 -0.689281 -0.327642   \n",
      "3  0.377436 -1.387024  ... -0.108300  0.005274 -0.190321 -1.175575  0.647376   \n",
      "4 -0.270533  0.817739  ... -0.009431  0.798278 -0.137458  0.141267 -0.206010   \n",
      "\n",
      "        V26       V27       V28  Amount  Class  \n",
      "0 -0.189115  0.133558 -0.021053  149.62    0.0  \n",
      "1  0.125895 -0.008983  0.014724    2.69    0.0  \n",
      "2 -0.139097 -0.055353 -0.059752  378.66    0.0  \n",
      "3 -0.221929  0.062723  0.061458  123.50    0.0  \n",
      "4  0.502292  0.219422  0.215153   69.99    0.0  \n",
      "\n",
      "[5 rows x 31 columns]\n",
      "Dataset Shape: (79318, 31)\n"
     ]
    }
   ],
   "source": [
    "# Load CSV file into a Pandas DataFrame\n",
    "df = pd.read_csv(\"creditcard.csv\")\n",
    "\n",
    "# Display the first 5 rows\n",
    "print(df.head())\n",
    "\n",
    "# Check dataset shape\n",
    "print(\"Dataset Shape:\", df.shape)"
   ]
  },
  {
   "cell_type": "code",
   "execution_count": 16,
   "id": "babcd680-9c06-4024-8fec-7c048dc5784a",
   "metadata": {},
   "outputs": [
    {
     "name": "stdout",
     "output_type": "stream",
     "text": [
      "NumPy Array Shape: (79318, 31)\n",
      "First 5 rows:\n",
      " [[ 0.00000000e+00 -1.35980713e+00 -7.27811733e-02  2.53634674e+00\n",
      "   1.37815522e+00 -3.38320770e-01  4.62387778e-01  2.39598554e-01\n",
      "   9.86979013e-02  3.63786970e-01  9.07941720e-02 -5.51599533e-01\n",
      "  -6.17800856e-01 -9.91389847e-01 -3.11169354e-01  1.46817697e+00\n",
      "  -4.70400525e-01  2.07971242e-01  2.57905802e-02  4.03992960e-01\n",
      "   2.51412098e-01 -1.83067779e-02  2.77837576e-01 -1.10473910e-01\n",
      "   6.69280749e-02  1.28539358e-01 -1.89114844e-01  1.33558377e-01\n",
      "  -2.10530535e-02  1.49620000e+02  0.00000000e+00]\n",
      " [ 0.00000000e+00  1.19185711e+00  2.66150712e-01  1.66480113e-01\n",
      "   4.48154078e-01  6.00176493e-02 -8.23608088e-02 -7.88029833e-02\n",
      "   8.51016549e-02 -2.55425128e-01 -1.66974414e-01  1.61272666e+00\n",
      "   1.06523531e+00  4.89095016e-01 -1.43772296e-01  6.35558093e-01\n",
      "   4.63917041e-01 -1.14804663e-01 -1.83361270e-01 -1.45783041e-01\n",
      "  -6.90831352e-02 -2.25775248e-01 -6.38671953e-01  1.01288021e-01\n",
      "  -3.39846476e-01  1.67170404e-01  1.25894532e-01 -8.98309914e-03\n",
      "   1.47241692e-02  2.69000000e+00  0.00000000e+00]\n",
      " [ 1.00000000e+00 -1.35835406e+00 -1.34016307e+00  1.77320934e+00\n",
      "   3.79779593e-01 -5.03198133e-01  1.80049938e+00  7.91460956e-01\n",
      "   2.47675787e-01 -1.51465432e+00  2.07642865e-01  6.24501459e-01\n",
      "   6.60836853e-02  7.17292731e-01 -1.65945923e-01  2.34586495e+00\n",
      "  -2.89008319e+00  1.10996938e+00 -1.21359313e-01 -2.26185710e+00\n",
      "   5.24979725e-01  2.47998153e-01  7.71679402e-01  9.09412262e-01\n",
      "  -6.89280956e-01 -3.27641834e-01 -1.39096572e-01 -5.53527940e-02\n",
      "  -5.97518406e-02  3.78660000e+02  0.00000000e+00]\n",
      " [ 1.00000000e+00 -9.66271712e-01 -1.85226008e-01  1.79299334e+00\n",
      "  -8.63291275e-01 -1.03088796e-02  1.24720317e+00  2.37608940e-01\n",
      "   3.77435875e-01 -1.38702406e+00 -5.49519225e-02 -2.26487264e-01\n",
      "   1.78228226e-01  5.07756870e-01 -2.87923745e-01 -6.31418118e-01\n",
      "  -1.05964725e+00 -6.84092786e-01  1.96577500e+00 -1.23262197e+00\n",
      "  -2.08037781e-01 -1.08300452e-01  5.27359678e-03 -1.90320519e-01\n",
      "  -1.17557533e+00  6.47376035e-01 -2.21928844e-01  6.27228487e-02\n",
      "   6.14576285e-02  1.23500000e+02  0.00000000e+00]\n",
      " [ 2.00000000e+00 -1.15823309e+00  8.77736755e-01  1.54871785e+00\n",
      "   4.03033934e-01 -4.07193377e-01  9.59214625e-02  5.92940745e-01\n",
      "  -2.70532677e-01  8.17739308e-01  7.53074432e-01 -8.22842878e-01\n",
      "   5.38195550e-01  1.34585159e+00 -1.11966983e+00  1.75121130e-01\n",
      "  -4.51449183e-01 -2.37033239e-01 -3.81947870e-02  8.03486925e-01\n",
      "   4.08542360e-01 -9.43069713e-03  7.98278495e-01 -1.37458080e-01\n",
      "   1.41266984e-01 -2.06009588e-01  5.02292224e-01  2.19422230e-01\n",
      "   2.15153147e-01  6.99900000e+01  0.00000000e+00]]\n"
     ]
    }
   ],
   "source": [
    "# Convert Pandas DataFrame to NumPy array\n",
    "data = df.to_numpy()\n",
    "\n",
    "# Print shape and first 5 rows of NumPy array\n",
    "print(\"NumPy Array Shape:\", data.shape)\n",
    "print(\"First 5 rows:\\n\", data[:5])"
   ]
  },
  {
   "cell_type": "code",
   "execution_count": 13,
   "id": "c8cfbd8e-6c2f-4169-a2d0-bfe3e5599143",
   "metadata": {},
   "outputs": [
    {
     "name": "stdout",
     "output_type": "stream",
     "text": [
      "Column Names: Index(['Time', 'V1', 'V2', 'V3', 'V4', 'V5', 'V6', 'V7', 'V8', 'V9', 'V10',\n",
      "       'V11', 'V12', 'V13', 'V14', 'V15', 'V16', 'V17', 'V18', 'V19', 'V20',\n",
      "       'V21', 'V22', 'V23', 'V24', 'V25', 'V26', 'V27', 'V28', 'Amount',\n",
      "       'Class'],\n",
      "      dtype='object')\n"
     ]
    }
   ],
   "source": [
    "columns = df.columns\n",
    "print(\"Column Names:\", columns)"
   ]
  },
  {
   "cell_type": "markdown",
   "id": "ee7fe949-1a1e-47a1-930a-e5fb8ee6e4f8",
   "metadata": {},
   "source": [
    " Handling Missing Values in the Dataset\n",
    "Before proceeding with analysis, let's check for missing values and handle them using NumPy."
   ]
  },
  {
   "cell_type": "code",
   "execution_count": 18,
   "id": "3e0ac7f9-8a41-4b73-96ae-f3dfef84f54a",
   "metadata": {},
   "outputs": [
    {
     "name": "stdout",
     "output_type": "stream",
     "text": [
      "Missing Values:\n",
      " Time      0\n",
      "V1        0\n",
      "V2        0\n",
      "V3        0\n",
      "V4        0\n",
      "V5        0\n",
      "V6        0\n",
      "V7        0\n",
      "V8        0\n",
      "V9        0\n",
      "V10       0\n",
      "V11       1\n",
      "V12       1\n",
      "V13       1\n",
      "V14       1\n",
      "V15       1\n",
      "V16       1\n",
      "V17       1\n",
      "V18       1\n",
      "V19       1\n",
      "V20       1\n",
      "V21       1\n",
      "V22       1\n",
      "V23       1\n",
      "V24       1\n",
      "V25       1\n",
      "V26       1\n",
      "V27       1\n",
      "V28       1\n",
      "Amount    1\n",
      "Class     1\n",
      "dtype: int64\n"
     ]
    }
   ],
   "source": [
    "# Check if any missing values exist\n",
    "missing_values = df.isnull().sum()\n",
    "print(\"Missing Values:\\n\", missing_values)"
   ]
  },
  {
   "cell_type": "markdown",
   "id": "1e7a6849-8063-4108-ba4a-a01467ab3e30",
   "metadata": {},
   "source": [
    "Handle Missing Values with NumPy\n",
    "If there are missing values, we can fill them with mean, median, or zero:"
   ]
  },
  {
   "cell_type": "code",
   "execution_count": 21,
   "id": "01e071dd-c405-4f01-9f73-f439e9bd882f",
   "metadata": {},
   "outputs": [
    {
     "name": "stdout",
     "output_type": "stream",
     "text": [
      "Any missing values left? True\n"
     ]
    }
   ],
   "source": [
    "# Convert dataframe to numpy array\n",
    "data = df.to_numpy()\n",
    "\n",
    "# Replace NaN values with column mean\n",
    "col_means = np.nanmean(data, axis=0)\n",
    "data_no_missing = np.where(np.isnan(data), col_means, data)\n",
    "\n",
    "# Verify if missing values are handled\n",
    "print(\"Any missing values left?\", np.isnan(data_no_missing).sum() == 0)"
   ]
  },
  {
   "cell_type": "markdown",
   "id": "5959d6ac-5597-42c5-ac5a-325cd6df7da6",
   "metadata": {},
   "source": [
    "Normalize Data\n",
    "Some columns may have large values (like transaction amounts). Normalizing helps scale the data properly."
   ]
  },
  {
   "cell_type": "code",
   "execution_count": null,
   "id": "480679e9-1198-4490-9dcc-6afed1b662e4",
   "metadata": {},
   "outputs": [],
   "source": [
    "# Normalize numerical features (excluding labels)\n",
    "from sklearn.preprocessing import MinMaxScaler\n",
    "\n",
    "scaler = MinMaxScaler()\n",
    "normalized_data = scaler.fit_transform(data[:, :-1])  # Exclude the last column if it's the label\n",
    "\n",
    "print(\"First 5 rows of normalized data:\\n\", normalized_data[:5])"
   ]
  },
  {
   "cell_type": "markdown",
   "id": "0629c13c-62a7-4f35-a737-6f26c474cff6",
   "metadata": {},
   "source": [
    "Analyze the Dataset with NumPy"
   ]
  },
  {
   "cell_type": "markdown",
   "id": "036019c1-9a89-492d-9cfa-2f65b733c82a",
   "metadata": {},
   "source": [
    "1️⃣ Find Total Transactions & Fraud Cases"
   ]
  },
  {
   "cell_type": "code",
   "execution_count": 28,
   "id": "cc8385ac-3421-4006-9f4e-edf3ef4a4e38",
   "metadata": {},
   "outputs": [
    {
     "name": "stdout",
     "output_type": "stream",
     "text": [
      "Total Transactions: 79318\n",
      "Total Fraud Cases: 191\n"
     ]
    }
   ],
   "source": [
    "total_transactions = data.shape[0]\n",
    "fraud_cases = np.sum(data[:, -1] == 1)  # Assuming last column is the fraud label\n",
    "\n",
    "print(f\"Total Transactions: {total_transactions}\")\n",
    "print(f\"Total Fraud Cases: {fraud_cases}\")"
   ]
  },
  {
   "cell_type": "markdown",
   "id": "c2f028c5-88ab-487d-abfa-2cc3f41be334",
   "metadata": {},
   "source": [
    "2️⃣ Average Transaction Amount"
   ]
  },
  {
   "cell_type": "code",
   "execution_count": 31,
   "id": "8afa5f1f-d54c-45fe-a904-355d861fc265",
   "metadata": {},
   "outputs": [
    {
     "name": "stdout",
     "output_type": "stream",
     "text": [
      "Average Transaction Amount: -0.25742560372689743\n"
     ]
    }
   ],
   "source": [
    "avg_amount = np.mean(data[:, 1])  # Assuming 'Amount' is in column 1\n",
    "print(\"Average Transaction Amount:\", avg_amount)"
   ]
  },
  {
   "cell_type": "markdown",
   "id": "16079325-e152-4058-831d-1a13b280ba34",
   "metadata": {},
   "source": [
    "3️⃣ Maximum Transaction Amount"
   ]
  },
  {
   "cell_type": "code",
   "execution_count": 35,
   "id": "77c5dcb7-1fb1-467e-a092-c221a81e465e",
   "metadata": {},
   "outputs": [
    {
     "name": "stdout",
     "output_type": "stream",
     "text": [
      "Highest Transaction Amount: 1.96049656699577\n"
     ]
    }
   ],
   "source": [
    "max_amount = np.max(data[:, 1])\n",
    "print(\"Highest Transaction Amount:\", max_amount)"
   ]
  },
  {
   "cell_type": "markdown",
   "id": "b4a58d5a-72e4-4843-a0b6-a9d93596b310",
   "metadata": {},
   "source": [
    "4️⃣ Find the Customer with the Highest Transaction"
   ]
  },
  {
   "cell_type": "code",
   "execution_count": 47,
   "id": "1b657d33-c6f2-400f-992d-817d44ce3858",
   "metadata": {},
   "outputs": [
    {
     "name": "stdout",
     "output_type": "stream",
     "text": [
      "Customer with Highest Transaction:\n",
      " [ 1.13910000e+04  1.96049657e+00  9.66209291e-01 -4.22803970e+00\n",
      "  1.50400606e+00  2.37497520e+00  2.62568177e+00 -1.07609684e+00\n",
      "  1.08422839e+00  1.23721109e+00 -9.11518938e-01  1.76903369e+00\n",
      " -2.96123861e+00  1.81621473e+00 -1.29841393e+00  1.44400446e+00\n",
      "  9.66276312e-01  3.26743907e+00  2.23395891e+00  1.20986203e+00\n",
      "  2.18576883e-02 -1.79448035e-01 -2.86200288e-01  6.77954805e-01\n",
      "  6.76118228e-01 -1.87571898e+00  3.02977844e-01 -1.68063287e-01\n",
      " -2.44677018e-01  1.00000000e+00  0.00000000e+00]\n"
     ]
    }
   ],
   "source": [
    "max_index = np.argmax(data[:, 1])  # Get index of max transaction\n",
    "highest_trans = data[max_index]\n",
    "print(\"Customer with Highest Transaction:\\n\", highest_trans)"
   ]
  },
  {
   "cell_type": "markdown",
   "id": "9932f457-82a8-472e-9193-ac6d213e3472",
   "metadata": {},
   "source": [
    "5️⃣ Find Average Amount of Fraudulent Transactions"
   ]
  },
  {
   "cell_type": "code",
   "execution_count": 41,
   "id": "8a7860e9-d0c1-4741-8559-7c04d9a11977",
   "metadata": {},
   "outputs": [
    {
     "name": "stdout",
     "output_type": "stream",
     "text": [
      "Average Amount in Fraud Cases: -6.660360931954441\n"
     ]
    }
   ],
   "source": [
    "fraud_avg_amount = np.mean(data[data[:, -1] == 1][:, 1])  # Fraud cases only\n",
    "\n",
    "print(\"Average Amount in Fraud Cases:\", fraud_avg_amount)"
   ]
  },
  {
   "cell_type": "markdown",
   "id": "309fa0aa-7d7a-4d54-ab2b-64c92bf46585",
   "metadata": {},
   "source": [
    "6️⃣ Find Number of Fraud Cases Above a Certain Amount"
   ]
  },
  {
   "cell_type": "code",
   "execution_count": 44,
   "id": "2a7cb25a-6e6d-4b0b-aefe-c1fac85ea824",
   "metadata": {},
   "outputs": [
    {
     "name": "stdout",
     "output_type": "stream",
     "text": [
      "Fraud Cases with High Amount: 21\n"
     ]
    }
   ],
   "source": [
    "high_value_fraud = np.sum((data[:, 1] > 0.5) & (data[:, -1] == 1))  # Amount normalized, 0.5 is threshold\n",
    "\n",
    "print(\"Fraud Cases with High Amount:\", high_value_fraud)"
   ]
  },
  {
   "cell_type": "markdown",
   "id": "39d4faec-302a-47e3-a403-5bb8a558a9a5",
   "metadata": {},
   "source": [
    "7️⃣ Standard Deviation of Transaction Amounts"
   ]
  },
  {
   "cell_type": "code",
   "execution_count": 49,
   "id": "acb55e51-a73a-4954-9ff8-52ea39b0aa54",
   "metadata": {},
   "outputs": [
    {
     "name": "stdout",
     "output_type": "stream",
     "text": [
      "Standard Deviation of Transaction Amounts: 1.8901674038221046\n"
     ]
    }
   ],
   "source": [
    "std_amount = np.std(data[:, 1])  \n",
    "print(\"Standard Deviation of Transaction Amounts:\", std_amount)"
   ]
  },
  {
   "cell_type": "markdown",
   "id": "a23b9da5-6220-4ebf-8e70-492050f9f03c",
   "metadata": {},
   "source": [
    "8️⃣ Calculate Fraud Percentage"
   ]
  },
  {
   "cell_type": "code",
   "execution_count": 57,
   "id": "d092e9b7-fc13-44db-89c4-21f61455e450",
   "metadata": {},
   "outputs": [
    {
     "name": "stdout",
     "output_type": "stream",
     "text": [
      "Percentage of Fraud Cases: 0.24080284424720746\n"
     ]
    }
   ],
   "source": [
    "fraud_percentage = (fraud_cases / total_transactions) * 100  \n",
    "print(\"Percentage of Fraud Cases:\", fraud_percentage)"
   ]
  },
  {
   "cell_type": "markdown",
   "id": "443ac5af-d8a1-4e6d-96c8-4f0de3ce37af",
   "metadata": {},
   "source": [
    " Identify Suspicious Transactions"
   ]
  },
  {
   "cell_type": "code",
   "execution_count": 59,
   "id": "655450b3-9123-4126-971e-e51f32dd3ab6",
   "metadata": {},
   "outputs": [
    {
     "name": "stdout",
     "output_type": "stream",
     "text": [
      "Number of Suspicious Transactions: 794\n"
     ]
    }
   ],
   "source": [
    "# Define threshold (e.g., top 1% transactions)\n",
    "threshold = np.percentile(data[:, 1], 99)\n",
    "\n",
    "# Find suspicious transactions\n",
    "suspicious_transactions = data[data[:, 1] > threshold]\n",
    "\n",
    "print(\"Number of Suspicious Transactions:\", suspicious_transactions.shape[0])"
   ]
  },
  {
   "cell_type": "code",
   "execution_count": 64,
   "id": "76981ca8-3000-4fe9-a43e-2b75b5c09b5e",
   "metadata": {},
   "outputs": [
    {
     "data": {
      "image/png": "[encoded data removed]",
      "text/plain": [
       "<Figure size 600x400 with 1 Axes>"
      ]
     },
     "metadata": {},
     "output_type": "display_data"
    }
   ],
   "source": [
    "import matplotlib.pyplot as plt  \n",
    "\n",
    "# Count fraud and non-fraud cases\n",
    "fraud_cases = np.sum(data[:, -1] == 1)\n",
    "non_fraud_cases = np.sum(data[:, -1] == 0)\n",
    "\n",
    "# Plot\n",
    "plt.figure(figsize=(6, 4))\n",
    "plt.bar([\"Non-Fraud\", \"Fraud\"], [non_fraud_cases, fraud_cases], color=[\"green\", \"red\"])\n",
    "plt.xlabel(\"Transaction Type\")\n",
    "plt.ylabel(\"Count\")\n",
    "plt.title(\"Fraud vs Non-Fraud Transactions\")\n",
    "plt.show()"
   ]
  },
  {
   "cell_type": "markdown",
   "id": "a7201882-57fd-4a2a-8cc8-d5bf9134a0d4",
   "metadata": {},
   "source": [
    "2️⃣ Distribution of Transaction Amounts"
   ]
  },
  {
   "cell_type": "code",
   "execution_count": 66,
   "id": "27d2df3a-2a79-496a-ac2e-14aa47cf8186",
   "metadata": {},
   "outputs": [
    {
     "data": {
      "image/png": "[encoded data removed]",
      "text/plain": [
       "<Figure size 800x500 with 1 Axes>"
      ]
     },
     "metadata": {},
     "output_type": "display_data"
    }
   ],
   "source": [
    "plt.figure(figsize=(8, 5))\n",
    "plt.hist(data[:, 1], bins=50, color=\"blue\", alpha=0.7)\n",
    "plt.xlabel(\"Transaction Amount\")\n",
    "plt.ylabel(\"Frequency\")\n",
    "plt.title(\"Distribution of Transaction Amounts\")\n",
    "plt.show()"
   ]
  },
  {
   "cell_type": "markdown",
   "id": "78001b08-0852-4270-95f6-4d650e0e1b86",
   "metadata": {},
   "source": [
    "3️⃣ Fraudulent Transactions Distribution"
   ]
  },
  {
   "cell_type": "code",
   "execution_count": 69,
   "id": "98f2b652-008c-4e14-b94c-304c79187439",
   "metadata": {},
   "outputs": [
    {
     "data": {
      "image/png": "[encoded data removed]",
      "text/plain": [
       "<Figure size 800x500 with 1 Axes>"
      ]
     },
     "metadata": {},
     "output_type": "display_data"
    }
   ],
   "source": [
    "plt.figure(figsize=(8, 5))\n",
    "plt.hist(data[data[:, -1] == 1][:, 1], bins=30, color=\"red\", alpha=0.7, label=\"Fraud\")\n",
    "plt.hist(data[data[:, -1] == 0][:, 1], bins=30, color=\"green\", alpha=0.7, label=\"Non-Fraud\")\n",
    "plt.xlabel(\"Transaction Amount\")\n",
    "plt.ylabel(\"Frequency\")\n",
    "plt.title(\"Transaction Amounts: Fraud vs Non-Fraud\")\n",
    "plt.legend()\n",
    "plt.show()"
   ]
  },
  {
   "cell_type": "code",
   "execution_count": null,
   "id": "a7d8fcab-861e-420b-a0d1-3068a06ecfce",
   "metadata": {},
   "outputs": [],
   "source": []
  }
 ],
 "metadata": {
  "kernelspec": {
   "display_name": "Python 3 (ipykernel)",
   "language": "python",
   "name": "python3"
  },
  "language_info": {
   "codemirror_mode": {
    "name": "ipython",
    "version": 3
   },
   "file_extension": ".py",
   "mimetype": "text/x-python",
   "name": "python",
   "nbconvert_exporter": "python",
   "pygments_lexer": "ipython3",
   "version": "3.12.4"
  }
 },
 "nbformat": 4,
 "nbformat_minor": 5
}
